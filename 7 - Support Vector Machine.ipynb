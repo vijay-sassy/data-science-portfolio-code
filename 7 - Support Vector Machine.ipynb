{
 "cells": [
  {
   "cell_type": "markdown",
   "metadata": {
    "colab_type": "text",
    "id": "_sfisF2IcGrP"
   },
   "source": [
    "# Support Vector Machine (SVM)\n"
   ]
  },
  {
   "cell_type": "code",
   "execution_count": 0,
   "metadata": {
    "colab": {
     "base_uri": "https://localhost:8080/",
     "height": 102
    },
    "colab_type": "code",
    "executionInfo": {
     "elapsed": 1953,
     "status": "ok",
     "timestamp": 1571059543873,
     "user": {
      "displayName": "Anthony Ng",
      "photoUrl": "https://lh3.googleusercontent.com/a-/AAuE7mDCwHDw3XUA0T7h5JCQA3iBUS8Wbz1V-29O8pmP8g=s64",
      "userId": "06915612711739148186"
     },
     "user_tz": -480
    },
    "id": "44GdfTU_cGrZ",
    "outputId": "1f9df7b2-4b97-49cd-9a8f-c1538f4b15e0"
   },
   "outputs": [
    {
     "name": "stdout",
     "output_type": "stream",
     "text": [
      "1.16.5\n",
      "0.24.2\n",
      "3.6.8 (default, Jan 14 2019, 11:02:34) \n",
      "[GCC 8.0.1 20180414 (experimental) [trunk revision 259383]]\n",
      "0.21.3\n"
     ]
    }
   ],
   "source": [
    "import numpy as np\n",
    "import pandas as pd\n",
    "import seaborn as sns\n",
    "from sklearn import datasets\n",
    "from sklearn import svm\n",
    "import matplotlib.pyplot as plt\n",
    "%matplotlib inline\n",
    "sns.set_style('whitegrid')\n",
    "\n",
    "print(np.__version__)\n",
    "print(pd.__version__)\n",
    "import sys\n",
    "print(sys.version)\n",
    "import sklearn\n",
    "print(sklearn.__version__)"
   ]
  },
  {
   "cell_type": "code",
   "execution_count": 0,
   "metadata": {
    "colab": {
     "base_uri": "https://localhost:8080/",
     "height": 204
    },
    "colab_type": "code",
    "executionInfo": {
     "elapsed": 1940,
     "status": "ok",
     "timestamp": 1571059543873,
     "user": {
      "displayName": "Anthony Ng",
      "photoUrl": "https://lh3.googleusercontent.com/a-/AAuE7mDCwHDw3XUA0T7h5JCQA3iBUS8Wbz1V-29O8pmP8g=s64",
      "userId": "06915612711739148186"
     },
     "user_tz": -480
    },
    "id": "XgkZxGdUcGrc",
    "outputId": "8ac6c047-0adb-465c-bc37-cad6b6b0f29e"
   },
   "outputs": [
    {
     "data": {
      "text/html": [
       "<div>\n",
       "<style scoped>\n",
       "    .dataframe tbody tr th:only-of-type {\n",
       "        vertical-align: middle;\n",
       "    }\n",
       "\n",
       "    .dataframe tbody tr th {\n",
       "        vertical-align: top;\n",
       "    }\n",
       "\n",
       "    .dataframe thead th {\n",
       "        text-align: right;\n",
       "    }\n",
       "</style>\n",
       "<table border=\"1\" class=\"dataframe\">\n",
       "  <thead>\n",
       "    <tr style=\"text-align: right;\">\n",
       "      <th></th>\n",
       "      <th>sepal_length</th>\n",
       "      <th>sepal_width</th>\n",
       "      <th>petal_length</th>\n",
       "      <th>petal_width</th>\n",
       "      <th>species</th>\n",
       "    </tr>\n",
       "  </thead>\n",
       "  <tbody>\n",
       "    <tr>\n",
       "      <th>0</th>\n",
       "      <td>5.1</td>\n",
       "      <td>3.5</td>\n",
       "      <td>1.4</td>\n",
       "      <td>0.2</td>\n",
       "      <td>setosa</td>\n",
       "    </tr>\n",
       "    <tr>\n",
       "      <th>1</th>\n",
       "      <td>4.9</td>\n",
       "      <td>3.0</td>\n",
       "      <td>1.4</td>\n",
       "      <td>0.2</td>\n",
       "      <td>setosa</td>\n",
       "    </tr>\n",
       "    <tr>\n",
       "      <th>2</th>\n",
       "      <td>4.7</td>\n",
       "      <td>3.2</td>\n",
       "      <td>1.3</td>\n",
       "      <td>0.2</td>\n",
       "      <td>setosa</td>\n",
       "    </tr>\n",
       "    <tr>\n",
       "      <th>3</th>\n",
       "      <td>4.6</td>\n",
       "      <td>3.1</td>\n",
       "      <td>1.5</td>\n",
       "      <td>0.2</td>\n",
       "      <td>setosa</td>\n",
       "    </tr>\n",
       "    <tr>\n",
       "      <th>4</th>\n",
       "      <td>5.0</td>\n",
       "      <td>3.6</td>\n",
       "      <td>1.4</td>\n",
       "      <td>0.2</td>\n",
       "      <td>setosa</td>\n",
       "    </tr>\n",
       "  </tbody>\n",
       "</table>\n",
       "</div>"
      ],
      "text/plain": [
       "   sepal_length  sepal_width  petal_length  petal_width species\n",
       "0           5.1          3.5           1.4          0.2  setosa\n",
       "1           4.9          3.0           1.4          0.2  setosa\n",
       "2           4.7          3.2           1.3          0.2  setosa\n",
       "3           4.6          3.1           1.5          0.2  setosa\n",
       "4           5.0          3.6           1.4          0.2  setosa"
      ]
     },
     "execution_count": 2,
     "metadata": {
      "tags": []
     },
     "output_type": "execute_result"
    }
   ],
   "source": [
    "df = sns.load_dataset('iris')\n",
    "df.head()"
   ]
  },
  {
   "cell_type": "code",
   "execution_count": 0,
   "metadata": {
    "colab": {
     "base_uri": "https://localhost:8080/",
     "height": 204
    },
    "colab_type": "code",
    "executionInfo": {
     "elapsed": 1932,
     "status": "ok",
     "timestamp": 1571059543876,
     "user": {
      "displayName": "Anthony Ng",
      "photoUrl": "https://lh3.googleusercontent.com/a-/AAuE7mDCwHDw3XUA0T7h5JCQA3iBUS8Wbz1V-29O8pmP8g=s64",
      "userId": "06915612711739148186"
     },
     "user_tz": -480
    },
    "id": "ahDQjoegcGrf",
    "outputId": "fe634057-32c6-4d25-8d9b-957cba856c27"
   },
   "outputs": [
    {
     "data": {
      "text/html": [
       "<div>\n",
       "<style scoped>\n",
       "    .dataframe tbody tr th:only-of-type {\n",
       "        vertical-align: middle;\n",
       "    }\n",
       "\n",
       "    .dataframe tbody tr th {\n",
       "        vertical-align: top;\n",
       "    }\n",
       "\n",
       "    .dataframe thead th {\n",
       "        text-align: right;\n",
       "    }\n",
       "</style>\n",
       "<table border=\"1\" class=\"dataframe\">\n",
       "  <thead>\n",
       "    <tr style=\"text-align: right;\">\n",
       "      <th></th>\n",
       "      <th>petal_length</th>\n",
       "      <th>petal_width</th>\n",
       "      <th>species</th>\n",
       "    </tr>\n",
       "  </thead>\n",
       "  <tbody>\n",
       "    <tr>\n",
       "      <th>0</th>\n",
       "      <td>1.4</td>\n",
       "      <td>0.2</td>\n",
       "      <td>setosa</td>\n",
       "    </tr>\n",
       "    <tr>\n",
       "      <th>1</th>\n",
       "      <td>1.4</td>\n",
       "      <td>0.2</td>\n",
       "      <td>setosa</td>\n",
       "    </tr>\n",
       "    <tr>\n",
       "      <th>2</th>\n",
       "      <td>1.3</td>\n",
       "      <td>0.2</td>\n",
       "      <td>setosa</td>\n",
       "    </tr>\n",
       "    <tr>\n",
       "      <th>3</th>\n",
       "      <td>1.5</td>\n",
       "      <td>0.2</td>\n",
       "      <td>setosa</td>\n",
       "    </tr>\n",
       "    <tr>\n",
       "      <th>4</th>\n",
       "      <td>1.4</td>\n",
       "      <td>0.2</td>\n",
       "      <td>setosa</td>\n",
       "    </tr>\n",
       "  </tbody>\n",
       "</table>\n",
       "</div>"
      ],
      "text/plain": [
       "   petal_length  petal_width species\n",
       "0           1.4          0.2  setosa\n",
       "1           1.4          0.2  setosa\n",
       "2           1.3          0.2  setosa\n",
       "3           1.5          0.2  setosa\n",
       "4           1.4          0.2  setosa"
      ]
     },
     "execution_count": 3,
     "metadata": {
      "tags": []
     },
     "output_type": "execute_result"
    }
   ],
   "source": [
    "col = ['petal_length', 'petal_width', 'species']\n",
    "df.loc[:, col].head()"
   ]
  },
  {
   "cell_type": "code",
   "execution_count": 0,
   "metadata": {
    "colab": {
     "base_uri": "https://localhost:8080/",
     "height": 34
    },
    "colab_type": "code",
    "executionInfo": {
     "elapsed": 1928,
     "status": "ok",
     "timestamp": 1571059543879,
     "user": {
      "displayName": "Anthony Ng",
      "photoUrl": "https://lh3.googleusercontent.com/a-/AAuE7mDCwHDw3XUA0T7h5JCQA3iBUS8Wbz1V-29O8pmP8g=s64",
      "userId": "06915612711739148186"
     },
     "user_tz": -480
    },
    "id": "HOV4DFUmcGrh",
    "outputId": "1fbbe3ee-926a-4752-85c7-06bf5bd3431b"
   },
   "outputs": [
    {
     "data": {
      "text/plain": [
       "array(['setosa', 'versicolor', 'virginica'], dtype=object)"
      ]
     },
     "execution_count": 4,
     "metadata": {
      "tags": []
     },
     "output_type": "execute_result"
    }
   ],
   "source": [
    "df.species.unique()"
   ]
  },
  {
   "cell_type": "code",
   "execution_count": 0,
   "metadata": {
    "colab": {},
    "colab_type": "code",
    "id": "i8kPtbzHcGrk"
   },
   "outputs": [],
   "source": [
    "col = ['petal_length', 'petal_width']\n",
    "X = df.loc[:, col]"
   ]
  },
  {
   "cell_type": "code",
   "execution_count": 0,
   "metadata": {
    "colab": {},
    "colab_type": "code",
    "id": "wKphl_AmcGrm"
   },
   "outputs": [],
   "source": [
    "species_to_num = {'setosa': 0,\n",
    "                  'versicolor': 1,\n",
    "                  'virginica': 2}\n",
    "df['tmp'] = df['species'].map(species_to_num)\n",
    "y = df['tmp']"
   ]
  },
  {
   "cell_type": "markdown",
   "metadata": {
    "colab_type": "text",
    "id": "hJNQLDuWcGrp"
   },
   "source": [
    "Documentations on each:\n",
    "\n",
    "* [LinearSVC](http://scikit-learn.org/stable/modules/generated/sklearn.svm.LinearSVC.html#sklearn.svm.LinearSVC)\n",
    "\n",
    "  Similar to SVC with parameter kernel=’linear’, but implemented in terms of liblinear rather than libsvm, so it has more flexibility in the choice of penalties and loss functions and should scale better to large numbers of samples.\n",
    "  \n",
    "  \n",
    "  \n",
    "* [SVC](http://scikit-learn.org/stable/modules/generated/sklearn.svm.SVC.html#sklearn.svm.SVC)\n",
    "\n",
    "  C-Support Vector Classification.\n",
    "  \n",
    "  The implementation is based on libsvm. The fit time complexity is more than quadratic with the number of samples which makes it hard to scale to dataset with more than a couple of 10000 samples."
   ]
  },
  {
   "cell_type": "code",
   "execution_count": 0,
   "metadata": {
    "colab": {
     "base_uri": "https://localhost:8080/",
     "height": 85
    },
    "colab_type": "code",
    "executionInfo": {
     "elapsed": 1911,
     "status": "ok",
     "timestamp": 1571059543882,
     "user": {
      "displayName": "Anthony Ng",
      "photoUrl": "https://lh3.googleusercontent.com/a-/AAuE7mDCwHDw3XUA0T7h5JCQA3iBUS8Wbz1V-29O8pmP8g=s64",
      "userId": "06915612711739148186"
     },
     "user_tz": -480
    },
    "id": "ZtcemvtFcGrq",
    "outputId": "4e968401-bde5-49be-8612-cd15397216ae"
   },
   "outputs": [
    {
     "data": {
      "text/plain": [
       "SVC(C=0.001, cache_size=200, class_weight=None, coef0=0.0,\n",
       "    decision_function_shape='ovr', degree=3, gamma='auto_deprecated',\n",
       "    kernel='linear', max_iter=-1, probability=False, random_state=None,\n",
       "    shrinking=True, tol=0.001, verbose=False)"
      ]
     },
     "execution_count": 7,
     "metadata": {
      "tags": []
     },
     "output_type": "execute_result"
    }
   ],
   "source": [
    "C = 0.001\n",
    "clf = svm.SVC(kernel='linear', C=C)\n",
    "#clf = svm.LinearSVC(C=C, loss='hinge')\n",
    "#clf = svm.SVC(kernel='poly', degree=3, C=C)\n",
    "#clf = svm.SVC(kernel='rbf', gamma=0.7, C=C)\n",
    "clf.fit(X, y)"
   ]
  },
  {
   "cell_type": "code",
   "execution_count": 0,
   "metadata": {
    "colab": {
     "base_uri": "https://localhost:8080/",
     "height": 34
    },
    "colab_type": "code",
    "executionInfo": {
     "elapsed": 1904,
     "status": "ok",
     "timestamp": 1571059543882,
     "user": {
      "displayName": "Anthony Ng",
      "photoUrl": "https://lh3.googleusercontent.com/a-/AAuE7mDCwHDw3XUA0T7h5JCQA3iBUS8Wbz1V-29O8pmP8g=s64",
      "userId": "06915612711739148186"
     },
     "user_tz": -480
    },
    "id": "66_lw5yCcGrt",
    "outputId": "10a39f21-8d26-4d55-9dc1-ca14742ddd07"
   },
   "outputs": [
    {
     "data": {
      "text/plain": [
       "array([2])"
      ]
     },
     "execution_count": 8,
     "metadata": {
      "tags": []
     },
     "output_type": "execute_result"
    }
   ],
   "source": [
    "clf.predict([[6, 2]])"
   ]
  },
  {
   "cell_type": "code",
   "execution_count": 0,
   "metadata": {
    "colab": {},
    "colab_type": "code",
    "id": "CQXi6HnbcGrv"
   },
   "outputs": [],
   "source": [
    "Xv = X.values.reshape(-1,1)\n",
    "h = 0.02\n",
    "x_min, x_max = Xv.min(), Xv.max() + 1\n",
    "y_min, y_max = y.min(), y.max() + 1\n",
    "xx, yy = np.meshgrid(np.arange(x_min, x_max, h),\n",
    "                     np.arange(y_min, y_max, h))"
   ]
  },
  {
   "cell_type": "code",
   "execution_count": 0,
   "metadata": {
    "colab": {
     "base_uri": "https://localhost:8080/",
     "height": 378
    },
    "colab_type": "code",
    "executionInfo": {
     "elapsed": 2476,
     "status": "ok",
     "timestamp": 1571059544470,
     "user": {
      "displayName": "Anthony Ng",
      "photoUrl": "https://lh3.googleusercontent.com/a-/AAuE7mDCwHDw3XUA0T7h5JCQA3iBUS8Wbz1V-29O8pmP8g=s64",
      "userId": "06915612711739148186"
     },
     "user_tz": -480
    },
    "id": "o97kXC8NcGrx",
    "outputId": "3cdb8a9c-0880-40b4-8fdf-e929b7da4cb2"
   },
   "outputs": [
    {
     "data": {
      "image/png": "[encoded data removed]",
      "text/plain": [
       "<Figure size 576x432 with 1 Axes>"
      ]
     },
     "metadata": {
      "tags": []
     },
     "output_type": "display_data"
    }
   ],
   "source": [
    "z = clf.predict(np.c_[xx.ravel(), yy.ravel()])\n",
    "z = z.reshape(xx.shape)\n",
    "fig = plt.figure(figsize=(8,6))\n",
    "ax = plt.contourf(xx, yy, z, cmap = 'afmhot', alpha=0.3);\n",
    "plt.scatter(X.values[:, 0], X.values[:, 1], c=y, s=80, \n",
    "            alpha=0.9, edgecolors='g');"
   ]
  },
  {
   "cell_type": "markdown",
   "metadata": {
    "colab_type": "text",
    "id": "67lolAi5cGr0"
   },
   "source": [
    "<img src='img//svm_iris_petal_length_and_width.png' width=40%, height=20%>"
   ]
  },
  {
   "cell_type": "markdown",
   "metadata": {
    "colab_type": "text",
    "id": "K48jknd8cGr1"
   },
   "source": [
    "## Linear SVM Implementation"
   ]
  },
  {
   "cell_type": "code",
   "execution_count": 0,
   "metadata": {
    "colab": {},
    "colab_type": "code",
    "id": "apymPMfFcGr2"
   },
   "outputs": [],
   "source": [
    "df = sns.load_dataset('iris')\n",
    "from sklearn.model_selection import train_test_split\n",
    "from sklearn.preprocessing import StandardScaler\n",
    "col = ['petal_length', 'petal_width']\n",
    "X = df.loc[:, col]\n",
    "species_to_num = {'setosa': 0,\n",
    "                  'versicolor': 1,\n",
    "                  'virginica': 2}\n",
    "df['tmp'] = df['species'].map(species_to_num)\n",
    "y = df['tmp']\n",
    "X_train, X_test, y_train, y_test = train_test_split(X, y,\n",
    "                                                    train_size=0.8, \n",
    "                                                    random_state=0)"
   ]
  },
  {
   "cell_type": "markdown",
   "metadata": {
    "colab_type": "text",
    "id": "ouq2Luf6cGr4"
   },
   "source": [
    "#### Scale Features"
   ]
  },
  {
   "cell_type": "code",
   "execution_count": 0,
   "metadata": {
    "colab": {},
    "colab_type": "code",
    "id": "wCDaSWKwcGr4"
   },
   "outputs": [],
   "source": [
    "sc_x = StandardScaler()\n",
    "X_std_train = sc_x.fit_transform(X_train)"
   ]
  },
  {
   "cell_type": "code",
   "execution_count": 0,
   "metadata": {
    "colab": {
     "base_uri": "https://localhost:8080/",
     "height": 85
    },
    "colab_type": "code",
    "executionInfo": {
     "elapsed": 2462,
     "status": "ok",
     "timestamp": 1571059544474,
     "user": {
      "displayName": "Anthony Ng",
      "photoUrl": "https://lh3.googleusercontent.com/a-/AAuE7mDCwHDw3XUA0T7h5JCQA3iBUS8Wbz1V-29O8pmP8g=s64",
      "userId": "06915612711739148186"
     },
     "user_tz": -480
    },
    "id": "rWGSQ4-DcGr6",
    "outputId": "c51efbc1-8835-4225-9be0-a2e887459a46"
   },
   "outputs": [
    {
     "data": {
      "text/plain": [
       "SVC(C=1.0, cache_size=200, class_weight=None, coef0=0.0,\n",
       "    decision_function_shape='ovr', degree=3, gamma='auto_deprecated',\n",
       "    kernel='linear', max_iter=-1, probability=False, random_state=None,\n",
       "    shrinking=True, tol=0.001, verbose=False)"
      ]
     },
     "execution_count": 13,
     "metadata": {
      "tags": []
     },
     "output_type": "execute_result"
    }
   ],
   "source": [
    "C = 1.0 #0.01\n",
    "clf = svm.SVC(kernel='linear', C=C)\n",
    "clf.fit(X_std_train, y_train)"
   ]
  },
  {
   "cell_type": "code",
   "execution_count": 0,
   "metadata": {
    "colab": {},
    "colab_type": "code",
    "id": "lVHzTfVYcGr8"
   },
   "outputs": [],
   "source": [
    "from sklearn.model_selection import cross_val_score\n",
    "from sklearn.model_selection import cross_val_predict\n",
    "from sklearn.metrics import confusion_matrix\n",
    "from sklearn.metrics import precision_score, recall_score, f1_score"
   ]
  },
  {
   "cell_type": "markdown",
   "metadata": {
    "colab_type": "text",
    "id": "A-H6jmCpcGr-"
   },
   "source": [
    "#### Cross Validation within Train Dataset"
   ]
  },
  {
   "cell_type": "code",
   "execution_count": 0,
   "metadata": {
    "colab": {
     "base_uri": "https://localhost:8080/",
     "height": 51
    },
    "colab_type": "code",
    "executionInfo": {
     "elapsed": 2451,
     "status": "ok",
     "timestamp": 1571059544475,
     "user": {
      "displayName": "Anthony Ng",
      "photoUrl": "https://lh3.googleusercontent.com/a-/AAuE7mDCwHDw3XUA0T7h5JCQA3iBUS8Wbz1V-29O8pmP8g=s64",
      "userId": "06915612711739148186"
     },
     "user_tz": -480
    },
    "id": "h8yoiliUcGr-",
    "outputId": "674cec27-6160-4c8c-dfe1-50d2dab8d567"
   },
   "outputs": [
    {
     "name": "stdout",
     "output_type": "stream",
     "text": [
      "Average Accuracy: \t 0.9501\n",
      "Accuracy SD: \t\t 0.0538\n"
     ]
    }
   ],
   "source": [
    "res = cross_val_score(clf, X_std_train, y_train, cv=10, scoring='accuracy')\n",
    "print(\"Average Accuracy: \\t {0:.4f}\".format(np.mean(res)))\n",
    "print(\"Accuracy SD: \\t\\t {0:.4f}\".format(np.std(res)))"
   ]
  },
  {
   "cell_type": "code",
   "execution_count": 0,
   "metadata": {
    "colab": {},
    "colab_type": "code",
    "id": "O9JlR5wEcGsB"
   },
   "outputs": [],
   "source": [
    "y_train_pred = cross_val_predict(clf, X_std_train, y_train, cv=3)"
   ]
  },
  {
   "cell_type": "code",
   "execution_count": 0,
   "metadata": {
    "colab": {
     "base_uri": "https://localhost:8080/",
     "height": 68
    },
    "colab_type": "code",
    "executionInfo": {
     "elapsed": 2438,
     "status": "ok",
     "timestamp": 1571059544476,
     "user": {
      "displayName": "Anthony Ng",
      "photoUrl": "https://lh3.googleusercontent.com/a-/AAuE7mDCwHDw3XUA0T7h5JCQA3iBUS8Wbz1V-29O8pmP8g=s64",
      "userId": "06915612711739148186"
     },
     "user_tz": -480
    },
    "id": "91WuHZIXcGsH",
    "outputId": "4acac737-df7e-4372-956d-e673c74a55dd"
   },
   "outputs": [
    {
     "data": {
      "text/plain": [
       "array([[39,  0,  0],\n",
       "       [ 0, 34,  3],\n",
       "       [ 0,  3, 41]])"
      ]
     },
     "execution_count": 17,
     "metadata": {
      "tags": []
     },
     "output_type": "execute_result"
    }
   ],
   "source": [
    "confusion_matrix(y_train, y_train_pred)"
   ]
  },
  {
   "cell_type": "code",
   "execution_count": 0,
   "metadata": {
    "colab": {
     "base_uri": "https://localhost:8080/",
     "height": 68
    },
    "colab_type": "code",
    "executionInfo": {
     "elapsed": 2431,
     "status": "ok",
     "timestamp": 1571059544476,
     "user": {
      "displayName": "Anthony Ng",
      "photoUrl": "https://lh3.googleusercontent.com/a-/AAuE7mDCwHDw3XUA0T7h5JCQA3iBUS8Wbz1V-29O8pmP8g=s64",
      "userId": "06915612711739148186"
     },
     "user_tz": -480
    },
    "id": "IdPTsH_ZcGsJ",
    "outputId": "363d7884-6373-434e-f2f8-fd030d2e783b"
   },
   "outputs": [
    {
     "name": "stdout",
     "output_type": "stream",
     "text": [
      "Precision Score: \t 0.9500\n",
      "Recall Score: \t\t 0.9500\n",
      "F1 Score: \t\t 0.9500\n"
     ]
    }
   ],
   "source": [
    "print(\"Precision Score: \\t {0:.4f}\".format(precision_score(y_train, \n",
    "                                                           y_train_pred, \n",
    "                                                           average='weighted')))\n",
    "print(\"Recall Score: \\t\\t {0:.4f}\".format(recall_score(y_train,\n",
    "                                                     y_train_pred, \n",
    "                                                     average='weighted')))\n",
    "print(\"F1 Score: \\t\\t {0:.4f}\".format(f1_score(y_train,\n",
    "                                             y_train_pred, \n",
    "                                             average='weighted')))"
   ]
  },
  {
   "cell_type": "markdown",
   "metadata": {
    "colab_type": "text",
    "id": "MS6R9ebCcGsL"
   },
   "source": [
    "#### Cross Validation within Test Dataset"
   ]
  },
  {
   "cell_type": "code",
   "execution_count": 0,
   "metadata": {
    "colab": {},
    "colab_type": "code",
    "id": "Cawhe9xocGsL"
   },
   "outputs": [],
   "source": [
    "y_test_pred = cross_val_predict(clf, sc_x.transform(X_test), y_test, cv=3)"
   ]
  },
  {
   "cell_type": "code",
   "execution_count": 0,
   "metadata": {
    "colab": {
     "base_uri": "https://localhost:8080/",
     "height": 68
    },
    "colab_type": "code",
    "executionInfo": {
     "elapsed": 2419,
     "status": "ok",
     "timestamp": 1571059544477,
     "user": {
      "displayName": "Anthony Ng",
      "photoUrl": "https://lh3.googleusercontent.com/a-/AAuE7mDCwHDw3XUA0T7h5JCQA3iBUS8Wbz1V-29O8pmP8g=s64",
      "userId": "06915612711739148186"
     },
     "user_tz": -480
    },
    "id": "1qKHgMlgcGsO",
    "outputId": "a2dd1080-3425-4984-f87f-c4b08eafb8df"
   },
   "outputs": [
    {
     "data": {
      "text/plain": [
       "array([[11,  0,  0],\n",
       "       [ 0, 13,  0],\n",
       "       [ 0,  2,  4]])"
      ]
     },
     "execution_count": 20,
     "metadata": {
      "tags": []
     },
     "output_type": "execute_result"
    }
   ],
   "source": [
    "confusion_matrix(y_test, y_test_pred)"
   ]
  },
  {
   "cell_type": "code",
   "execution_count": 0,
   "metadata": {
    "colab": {
     "base_uri": "https://localhost:8080/",
     "height": 68
    },
    "colab_type": "code",
    "executionInfo": {
     "elapsed": 2409,
     "status": "ok",
     "timestamp": 1571059544477,
     "user": {
      "displayName": "Anthony Ng",
      "photoUrl": "https://lh3.googleusercontent.com/a-/AAuE7mDCwHDw3XUA0T7h5JCQA3iBUS8Wbz1V-29O8pmP8g=s64",
      "userId": "06915612711739148186"
     },
     "user_tz": -480
    },
    "id": "nEH132k2cGsS",
    "outputId": "2e1151a1-9be4-41ff-c042-51efe3372652"
   },
   "outputs": [
    {
     "name": "stdout",
     "output_type": "stream",
     "text": [
      "Precision Score: \t 0.9422\n",
      "Recall Score: \t\t 0.9333\n",
      "F1 Score: \t\t 0.9290\n"
     ]
    }
   ],
   "source": [
    "print(\"Precision Score: \\t {0:.4f}\".format(precision_score(y_test, \n",
    "                                                           y_test_pred, \n",
    "                                                           average='weighted')))\n",
    "print(\"Recall Score: \\t\\t {0:.4f}\".format(recall_score(y_test,\n",
    "                                                     y_test_pred, \n",
    "                                                     average='weighted')))\n",
    "print(\"F1 Score: \\t\\t {0:.4f}\".format(f1_score(y_test,\n",
    "                                             y_test_pred, \n",
    "                                             average='weighted')))"
   ]
  },
  {
   "cell_type": "markdown",
   "metadata": {
    "colab_type": "text",
    "id": "Zqy8OMIYcGsU"
   },
   "source": [
    "***\n",
    "# 3. Polynomial Kernel"
   ]
  },
  {
   "cell_type": "code",
   "execution_count": 0,
   "metadata": {
    "colab": {
     "base_uri": "https://localhost:8080/",
     "height": 85
    },
    "colab_type": "code",
    "executionInfo": {
     "elapsed": 3344,
     "status": "ok",
     "timestamp": 1571059545419,
     "user": {
      "displayName": "Anthony Ng",
      "photoUrl": "https://lh3.googleusercontent.com/a-/AAuE7mDCwHDw3XUA0T7h5JCQA3iBUS8Wbz1V-29O8pmP8g=s64",
      "userId": "06915612711739148186"
     },
     "user_tz": -480
    },
    "id": "Vvg2P5ShcGsV",
    "outputId": "7cd92f1e-fe8f-4487-c11b-73bb5a95dae1"
   },
   "outputs": [
    {
     "data": {
      "text/plain": [
       "SVC(C=1.0, cache_size=200, class_weight=None, coef0=0.0,\n",
       "    decision_function_shape='ovr', degree=3, gamma='auto', kernel='poly',\n",
       "    max_iter=-1, probability=False, random_state=None, shrinking=True,\n",
       "    tol=0.001, verbose=False)"
      ]
     },
     "execution_count": 22,
     "metadata": {
      "tags": []
     },
     "output_type": "execute_result"
    }
   ],
   "source": [
    "C = 1.0\n",
    "clf = svm.SVC(kernel='poly', degree=3, C=C, gamma='auto')\n",
    "clf.fit(X, y)"
   ]
  },
  {
   "cell_type": "code",
   "execution_count": 0,
   "metadata": {
    "colab": {},
    "colab_type": "code",
    "id": "yxq3-w-CcGsX"
   },
   "outputs": [],
   "source": [
    "Xv = X.values.reshape(-1,1)\n",
    "h = 0.02\n",
    "x_min, x_max = Xv.min(), Xv.max() + 1\n",
    "y_min, y_max = y.min(), y.max() + 1\n",
    "xx, yy = np.meshgrid(np.arange(x_min, x_max, h),\n",
    "                     np.arange(y_min, y_max, h))"
   ]
  },
  {
   "cell_type": "code",
   "execution_count": 0,
   "metadata": {
    "colab": {
     "base_uri": "https://localhost:8080/",
     "height": 378
    },
    "colab_type": "code",
    "executionInfo": {
     "elapsed": 3335,
     "status": "ok",
     "timestamp": 1571059545421,
     "user": {
      "displayName": "Anthony Ng",
      "photoUrl": "https://lh3.googleusercontent.com/a-/AAuE7mDCwHDw3XUA0T7h5JCQA3iBUS8Wbz1V-29O8pmP8g=s64",
      "userId": "06915612711739148186"
     },
     "user_tz": -480
    },
    "id": "cFfPDxOZcGsZ",
    "outputId": "bfe277a7-556b-4cf3-a68a-5bd398d0243d"
   },
   "outputs": [
    {
     "data": {
      "image/png": "[encoded data removed]",
      "text/plain": [
       "<Figure size 576x432 with 1 Axes>"
      ]
     },
     "metadata": {
      "tags": []
     },
     "output_type": "display_data"
    }
   ],
   "source": [
    "z = clf.predict(np.c_[xx.ravel(), yy.ravel()])\n",
    "z = z.reshape(xx.shape)\n",
    "fig = plt.figure(figsize=(8,6))\n",
    "ax = plt.contourf(xx, yy, z, cmap = 'afmhot', alpha=0.3);\n",
    "plt.scatter(X.values[:, 0], X.values[:, 1], c=y, s=80, \n",
    "            alpha=0.9, edgecolors='g');"
   ]
  },
  {
   "cell_type": "markdown",
   "metadata": {
    "colab_type": "text",
    "id": "GzyujpXlcGsc"
   },
   "source": [
    "## Polynomial SVM Implementation"
   ]
  },
  {
   "cell_type": "code",
   "execution_count": 0,
   "metadata": {
    "colab": {},
    "colab_type": "code",
    "id": "XrgnmfAicGsd"
   },
   "outputs": [],
   "source": [
    "df = sns.load_dataset('iris')\n",
    "from sklearn.model_selection import train_test_split\n",
    "from sklearn.preprocessing import StandardScaler\n",
    "col = ['petal_length', 'petal_width']\n",
    "X = df.loc[:, col]\n",
    "species_to_num = {'setosa': 0,\n",
    "                  'versicolor': 1,\n",
    "                  'virginica': 2}\n",
    "df['tmp'] = df['species'].map(species_to_num)\n",
    "y = df['tmp']\n",
    "X_train, X_std_test, y_train, y_test = train_test_split(X, y,\n",
    "                                                        train_size=0.8, \n",
    "                                                        random_state=0)"
   ]
  },
  {
   "cell_type": "markdown",
   "metadata": {
    "colab_type": "text",
    "id": "E8W21s7XcGsk"
   },
   "source": [
    "#### Scale Features"
   ]
  },
  {
   "cell_type": "code",
   "execution_count": 0,
   "metadata": {
    "colab": {},
    "colab_type": "code",
    "id": "kBv1vkm1cGsl"
   },
   "outputs": [],
   "source": [
    "sc_x = StandardScaler()\n",
    "X_std_train = sc_x.fit_transform(X_train)"
   ]
  },
  {
   "cell_type": "code",
   "execution_count": 0,
   "metadata": {
    "colab": {
     "base_uri": "https://localhost:8080/",
     "height": 85
    },
    "colab_type": "code",
    "executionInfo": {
     "elapsed": 3314,
     "status": "ok",
     "timestamp": 1571059545423,
     "user": {
      "displayName": "Anthony Ng",
      "photoUrl": "https://lh3.googleusercontent.com/a-/AAuE7mDCwHDw3XUA0T7h5JCQA3iBUS8Wbz1V-29O8pmP8g=s64",
      "userId": "06915612711739148186"
     },
     "user_tz": -480
    },
    "id": "aGeyMrG2cGsn",
    "outputId": "44169b06-2ff6-4ccd-b7c7-bfd9ecfa4a08"
   },
   "outputs": [
    {
     "data": {
      "text/plain": [
       "SVC(C=1.0, cache_size=200, class_weight=None, coef0=0.0,\n",
       "    decision_function_shape='ovr', degree=10, gamma='auto', kernel='poly',\n",
       "    max_iter=-1, probability=False, random_state=None, shrinking=True,\n",
       "    tol=0.001, verbose=False)"
      ]
     },
     "execution_count": 27,
     "metadata": {
      "tags": []
     },
     "output_type": "execute_result"
    }
   ],
   "source": [
    "C = 1.0 #0.01\n",
    "clf = svm.SVC(kernel='poly', degree=10, C=C, gamma='auto') #5\n",
    "clf.fit(X_std_train, y_train)"
   ]
  },
  {
   "cell_type": "markdown",
   "metadata": {
    "colab_type": "text",
    "id": "2uM-Z2C0cGsq"
   },
   "source": [
    "#### Cross Validation within Train Dataset"
   ]
  },
  {
   "cell_type": "code",
   "execution_count": 0,
   "metadata": {
    "colab": {
     "base_uri": "https://localhost:8080/",
     "height": 51
    },
    "colab_type": "code",
    "executionInfo": {
     "elapsed": 3302,
     "status": "ok",
     "timestamp": 1571059545423,
     "user": {
      "displayName": "Anthony Ng",
      "photoUrl": "https://lh3.googleusercontent.com/a-/AAuE7mDCwHDw3XUA0T7h5JCQA3iBUS8Wbz1V-29O8pmP8g=s64",
      "userId": "06915612711739148186"
     },
     "user_tz": -480
    },
    "id": "yO17rsCYcGsr",
    "outputId": "bf8f8fe1-5970-4cdc-cac3-ed493c69f2df"
   },
   "outputs": [
    {
     "name": "stdout",
     "output_type": "stream",
     "text": [
      "Average Accuracy: \t 0.7864\n",
      "Accuracy SD: \t\t 0.1283\n"
     ]
    }
   ],
   "source": [
    "res = cross_val_score(clf, X_std_train, y_train, cv=10, scoring='accuracy')\n",
    "print(\"Average Accuracy: \\t {0:.4f}\".format(np.mean(res)))\n",
    "print(\"Accuracy SD: \\t\\t {0:.4f}\".format(np.std(res)))"
   ]
  },
  {
   "cell_type": "code",
   "execution_count": 0,
   "metadata": {
    "colab": {},
    "colab_type": "code",
    "id": "qnqS_wL_cGsu"
   },
   "outputs": [],
   "source": [
    "y_train_pred = cross_val_predict(clf, X_std_train, y_train, cv=3)"
   ]
  },
  {
   "cell_type": "code",
   "execution_count": 0,
   "metadata": {
    "colab": {
     "base_uri": "https://localhost:8080/",
     "height": 68
    },
    "colab_type": "code",
    "executionInfo": {
     "elapsed": 3291,
     "status": "ok",
     "timestamp": 1571059545424,
     "user": {
      "displayName": "Anthony Ng",
      "photoUrl": "https://lh3.googleusercontent.com/a-/AAuE7mDCwHDw3XUA0T7h5JCQA3iBUS8Wbz1V-29O8pmP8g=s64",
      "userId": "06915612711739148186"
     },
     "user_tz": -480
    },
    "id": "xvXvxdrNcGsx",
    "outputId": "800959aa-8db2-4ca3-ace3-d46ea627ade5"
   },
   "outputs": [
    {
     "data": {
      "text/plain": [
       "array([[35,  0,  4],\n",
       "       [ 0, 37,  0],\n",
       "       [ 7, 18, 19]])"
      ]
     },
     "execution_count": 30,
     "metadata": {
      "tags": []
     },
     "output_type": "execute_result"
    }
   ],
   "source": [
    "confusion_matrix(y_train, y_train_pred)"
   ]
  },
  {
   "cell_type": "code",
   "execution_count": 0,
   "metadata": {
    "colab": {
     "base_uri": "https://localhost:8080/",
     "height": 68
    },
    "colab_type": "code",
    "executionInfo": {
     "elapsed": 3283,
     "status": "ok",
     "timestamp": 1571059545425,
     "user": {
      "displayName": "Anthony Ng",
      "photoUrl": "https://lh3.googleusercontent.com/a-/AAuE7mDCwHDw3XUA0T7h5JCQA3iBUS8Wbz1V-29O8pmP8g=s64",
      "userId": "06915612711739148186"
     },
     "user_tz": -480
    },
    "id": "iujbFfOicGs0",
    "outputId": "0950a440-b310-47da-c768-12932c2cf8e3"
   },
   "outputs": [
    {
     "name": "stdout",
     "output_type": "stream",
     "text": [
      "Precision Score: \t 0.7812\n",
      "Recall Score: \t\t 0.7583\n",
      "F1 Score: \t\t 0.7368\n"
     ]
    }
   ],
   "source": [
    "print(\"Precision Score: \\t {0:.4f}\".format(precision_score(y_train, \n",
    "                                                           y_train_pred, \n",
    "                                                           average='weighted')))\n",
    "print(\"Recall Score: \\t\\t {0:.4f}\".format(recall_score(y_train,\n",
    "                                                     y_train_pred, \n",
    "                                                     average='weighted')))\n",
    "print(\"F1 Score: \\t\\t {0:.4f}\".format(f1_score(y_train,\n",
    "                                             y_train_pred, \n",
    "                                             average='weighted')))"
   ]
  },
  {
   "cell_type": "markdown",
   "metadata": {
    "colab_type": "text",
    "id": "N2lmBVyacGs2"
   },
   "source": [
    "#### Cross Validation within Test Dataset"
   ]
  },
  {
   "cell_type": "code",
   "execution_count": 0,
   "metadata": {
    "colab": {},
    "colab_type": "code",
    "id": "v4d03YPFcGs3"
   },
   "outputs": [],
   "source": [
    "y_test_pred = cross_val_predict(clf, sc_x.transform(X_test), y_test, cv=3)"
   ]
  },
  {
   "cell_type": "code",
   "execution_count": 0,
   "metadata": {
    "colab": {
     "base_uri": "https://localhost:8080/",
     "height": 68
    },
    "colab_type": "code",
    "executionInfo": {
     "elapsed": 3269,
     "status": "ok",
     "timestamp": 1571059545425,
     "user": {
      "displayName": "Anthony Ng",
      "photoUrl": "https://lh3.googleusercontent.com/a-/AAuE7mDCwHDw3XUA0T7h5JCQA3iBUS8Wbz1V-29O8pmP8g=s64",
      "userId": "06915612711739148186"
     },
     "user_tz": -480
    },
    "id": "dZV4OCm6cGs5",
    "outputId": "0eee4f4a-6322-4abd-e25e-5f5621ab1d1a"
   },
   "outputs": [
    {
     "data": {
      "text/plain": [
       "array([[10,  0,  1],\n",
       "       [ 0, 13,  0],\n",
       "       [ 3,  3,  0]])"
      ]
     },
     "execution_count": 33,
     "metadata": {
      "tags": []
     },
     "output_type": "execute_result"
    }
   ],
   "source": [
    "confusion_matrix(y_test, y_test_pred)"
   ]
  },
  {
   "cell_type": "code",
   "execution_count": 0,
   "metadata": {
    "colab": {
     "base_uri": "https://localhost:8080/",
     "height": 68
    },
    "colab_type": "code",
    "executionInfo": {
     "elapsed": 3260,
     "status": "ok",
     "timestamp": 1571059545426,
     "user": {
      "displayName": "Anthony Ng",
      "photoUrl": "https://lh3.googleusercontent.com/a-/AAuE7mDCwHDw3XUA0T7h5JCQA3iBUS8Wbz1V-29O8pmP8g=s64",
      "userId": "06915612711739148186"
     },
     "user_tz": -480
    },
    "id": "v0sJQn2VcGs7",
    "outputId": "5b86f4ac-f013-4503-b88e-2ca6980be3e2"
   },
   "outputs": [
    {
     "name": "stdout",
     "output_type": "stream",
     "text": [
      "Precision Score: \t 0.6341\n",
      "Recall Score: \t\t 0.7667\n",
      "F1 Score: \t\t 0.6941\n"
     ]
    }
   ],
   "source": [
    "print(\"Precision Score: \\t {0:.4f}\".format(precision_score(y_test, \n",
    "                                                           y_test_pred, \n",
    "                                                           average='weighted')))\n",
    "print(\"Recall Score: \\t\\t {0:.4f}\".format(recall_score(y_test,\n",
    "                                                     y_test_pred, \n",
    "                                                     average='weighted')))\n",
    "print(\"F1 Score: \\t\\t {0:.4f}\".format(f1_score(y_test,\n",
    "                                             y_test_pred, \n",
    "                                             average='weighted')))"
   ]
  },
  {
   "cell_type": "markdown",
   "metadata": {
    "colab_type": "text",
    "id": "lWdP8yYxcGs_"
   },
   "source": [
    "***\n",
    "# 4. Gaussian Radial Basis Function (rbf)"
   ]
  },
  {
   "cell_type": "code",
   "execution_count": 0,
   "metadata": {
    "colab": {},
    "colab_type": "code",
    "id": "rsEQhH3mcGtB"
   },
   "outputs": [],
   "source": [
    "df = sns.load_dataset('iris')\n",
    "from sklearn.model_selection import train_test_split\n",
    "from sklearn.preprocessing import StandardScaler\n",
    "col = ['petal_length', 'petal_width']\n",
    "X = df.loc[:, col]\n",
    "species_to_num = {'setosa': 0,\n",
    "                  'versicolor': 1,\n",
    "                  'virginica': 2}\n",
    "df['tmp'] = df['species'].map(species_to_num)\n",
    "y = df['tmp']\n",
    "X_train, X_test, y_train, y_test = train_test_split(X, y,\n",
    "                                                    train_size=0.8, \n",
    "                                                    random_state=0) #0.6"
   ]
  },
  {
   "cell_type": "markdown",
   "metadata": {
    "colab_type": "text",
    "id": "MwwYwY-rcGtF"
   },
   "source": [
    "#### Scale Features"
   ]
  },
  {
   "cell_type": "code",
   "execution_count": 0,
   "metadata": {
    "colab": {},
    "colab_type": "code",
    "id": "7LxjEBBKcGtF"
   },
   "outputs": [],
   "source": [
    "sc_x = StandardScaler()\n",
    "X_std_train = sc_x.fit_transform(X_train)"
   ]
  },
  {
   "cell_type": "code",
   "execution_count": 0,
   "metadata": {
    "colab": {
     "base_uri": "https://localhost:8080/",
     "height": 85
    },
    "colab_type": "code",
    "executionInfo": {
     "elapsed": 3252,
     "status": "ok",
     "timestamp": 1571059545428,
     "user": {
      "displayName": "Anthony Ng",
      "photoUrl": "https://lh3.googleusercontent.com/a-/AAuE7mDCwHDw3XUA0T7h5JCQA3iBUS8Wbz1V-29O8pmP8g=s64",
      "userId": "06915612711739148186"
     },
     "user_tz": -480
    },
    "id": "PBTZ1qaXcGtJ",
    "outputId": "67046a24-4ae7-4e52-c980-86e5b00e159a"
   },
   "outputs": [
    {
     "data": {
      "text/plain": [
       "SVC(C=1.0, cache_size=200, class_weight=None, coef0=0.0,\n",
       "    decision_function_shape='ovr', degree=3, gamma=0.7, kernel='rbf',\n",
       "    max_iter=-1, probability=False, random_state=None, shrinking=True,\n",
       "    tol=0.001, verbose=False)"
      ]
     },
     "execution_count": 37,
     "metadata": {
      "tags": []
     },
     "output_type": "execute_result"
    }
   ],
   "source": [
    "C = 1.0\n",
    "clf = svm.SVC(kernel='rbf', gamma=0.7, C=C)\n",
    "clf.fit(X_std_train, y_train)"
   ]
  },
  {
   "cell_type": "markdown",
   "metadata": {
    "colab_type": "text",
    "id": "4zp_ovHQcGtL"
   },
   "source": [
    "#### Cross Validation within Train Dataset"
   ]
  },
  {
   "cell_type": "code",
   "execution_count": 0,
   "metadata": {
    "colab": {
     "base_uri": "https://localhost:8080/",
     "height": 51
    },
    "colab_type": "code",
    "executionInfo": {
     "elapsed": 3248,
     "status": "ok",
     "timestamp": 1571059545429,
     "user": {
      "displayName": "Anthony Ng",
      "photoUrl": "https://lh3.googleusercontent.com/a-/AAuE7mDCwHDw3XUA0T7h5JCQA3iBUS8Wbz1V-29O8pmP8g=s64",
      "userId": "06915612711739148186"
     },
     "user_tz": -480
    },
    "id": "oRyyQ1MtcGtM",
    "outputId": "2530650b-b81f-4693-bd50-9c186fc6ac64"
   },
   "outputs": [
    {
     "name": "stdout",
     "output_type": "stream",
     "text": [
      "Average Accuracy: \t 0.9501\n",
      "Accuracy SD: \t\t 0.0538\n"
     ]
    }
   ],
   "source": [
    "res = cross_val_score(clf, X_std_train, y_train, cv=10, scoring='accuracy')\n",
    "print(\"Average Accuracy: \\t {0:.4f}\".format(np.mean(res)))\n",
    "print(\"Accuracy SD: \\t\\t {0:.4f}\".format(np.std(res)))"
   ]
  },
  {
   "cell_type": "code",
   "execution_count": 0,
   "metadata": {
    "colab": {},
    "colab_type": "code",
    "id": "9IEPTf71cGtO"
   },
   "outputs": [],
   "source": [
    "y_train_pred = cross_val_predict(clf, X_std_train, y_train, cv=3)"
   ]
  },
  {
   "cell_type": "code",
   "execution_count": 0,
   "metadata": {
    "colab": {
     "base_uri": "https://localhost:8080/",
     "height": 68
    },
    "colab_type": "code",
    "executionInfo": {
     "elapsed": 3240,
     "status": "ok",
     "timestamp": 1571059545430,
     "user": {
      "displayName": "Anthony Ng",
      "photoUrl": "https://lh3.googleusercontent.com/a-/AAuE7mDCwHDw3XUA0T7h5JCQA3iBUS8Wbz1V-29O8pmP8g=s64",
      "userId": "06915612711739148186"
     },
     "user_tz": -480
    },
    "id": "Hxx5rooZcGtQ",
    "outputId": "fb1fe100-c14c-4ba9-ce06-7689dada3df3"
   },
   "outputs": [
    {
     "data": {
      "text/plain": [
       "array([[39,  0,  0],\n",
       "       [ 0, 35,  2],\n",
       "       [ 0,  3, 41]])"
      ]
     },
     "execution_count": 40,
     "metadata": {
      "tags": []
     },
     "output_type": "execute_result"
    }
   ],
   "source": [
    "confusion_matrix(y_train, y_train_pred)"
   ]
  },
  {
   "cell_type": "code",
   "execution_count": 0,
   "metadata": {
    "colab": {
     "base_uri": "https://localhost:8080/",
     "height": 68
    },
    "colab_type": "code",
    "executionInfo": {
     "elapsed": 3834,
     "status": "ok",
     "timestamp": 1571059546027,
     "user": {
      "displayName": "Anthony Ng",
      "photoUrl": "https://lh3.googleusercontent.com/a-/AAuE7mDCwHDw3XUA0T7h5JCQA3iBUS8Wbz1V-29O8pmP8g=s64",
      "userId": "06915612711739148186"
     },
     "user_tz": -480
    },
    "id": "EQ3V0iG4cGtW",
    "outputId": "59726c4b-d5d3-4dc3-c218-cb2f06c87f86"
   },
   "outputs": [
    {
     "name": "stdout",
     "output_type": "stream",
     "text": [
      "Precision Score: \t 0.9586\n",
      "Recall Score: \t\t 0.9583\n",
      "F1 Score: \t\t 0.9584\n"
     ]
    }
   ],
   "source": [
    "print(\"Precision Score: \\t {0:.4f}\".format(precision_score(y_train, \n",
    "                                                           y_train_pred, \n",
    "                                                           average='weighted')))\n",
    "print(\"Recall Score: \\t\\t {0:.4f}\".format(recall_score(y_train,\n",
    "                                                     y_train_pred, \n",
    "                                                     average='weighted')))\n",
    "print(\"F1 Score: \\t\\t {0:.4f}\".format(f1_score(y_train,\n",
    "                                             y_train_pred, \n",
    "                                             average='weighted')))"
   ]
  },
  {
   "cell_type": "markdown",
   "metadata": {
    "colab_type": "text",
    "id": "7qntssvpcGtX"
   },
   "source": [
    "### Grid Search"
   ]
  },
  {
   "cell_type": "code",
   "execution_count": 0,
   "metadata": {
    "colab": {},
    "colab_type": "code",
    "id": "BuqJqb2acGtZ"
   },
   "outputs": [],
   "source": [
    "from sklearn.pipeline import Pipeline "
   ]
  },
  {
   "cell_type": "code",
   "execution_count": 0,
   "metadata": {
    "colab": {},
    "colab_type": "code",
    "id": "0AUYgJl-cGta"
   },
   "outputs": [],
   "source": [
    "from sklearn.model_selection import train_test_split, GridSearchCV "
   ]
  },
  {
   "cell_type": "markdown",
   "metadata": {
    "colab_type": "text",
    "id": "_zDpg2uOcGtc"
   },
   "source": [
    "we can improve this by scaling the features"
   ]
  },
  {
   "cell_type": "code",
   "execution_count": 0,
   "metadata": {
    "colab": {},
    "colab_type": "code",
    "id": "2wT45dyicGtd"
   },
   "outputs": [],
   "source": [
    "pipeline = Pipeline([('clf', svm.SVC(kernel='rbf', C=1, gamma=0.1))]) "
   ]
  },
  {
   "cell_type": "code",
   "execution_count": 0,
   "metadata": {
    "colab": {},
    "colab_type": "code",
    "id": "Jz6eA-1HcGtf"
   },
   "outputs": [],
   "source": [
    "params = {'clf__C':(0.1, 0.5, 1, 2, 5, 10, 20), \n",
    "          'clf__gamma':(0.001, 0.01, 0.1, 0.25, 0.5, 0.75, 1)} "
   ]
  },
  {
   "cell_type": "code",
   "execution_count": 0,
   "metadata": {
    "colab": {},
    "colab_type": "code",
    "id": "yX4c6QHQcGti"
   },
   "outputs": [],
   "source": [
    "svm_grid_rbf = GridSearchCV(pipeline, params, n_jobs=-1,\n",
    "                            cv=3, verbose=1, scoring='accuracy') "
   ]
  },
  {
   "cell_type": "code",
   "execution_count": 0,
   "metadata": {
    "colab": {
     "base_uri": "https://localhost:8080/",
     "height": 394
    },
    "colab_type": "code",
    "executionInfo": {
     "elapsed": 6216,
     "status": "ok",
     "timestamp": 1571059548423,
     "user": {
      "displayName": "Anthony Ng",
      "photoUrl": "https://lh3.googleusercontent.com/a-/AAuE7mDCwHDw3XUA0T7h5JCQA3iBUS8Wbz1V-29O8pmP8g=s64",
      "userId": "06915612711739148186"
     },
     "user_tz": -480
    },
    "id": "9yP37LqvcGtj",
    "outputId": "db51fd5b-dea5-439b-91a3-e6a5a720d47d"
   },
   "outputs": [
    {
     "name": "stdout",
     "output_type": "stream",
     "text": [
      "Fitting 3 folds for each of 49 candidates, totalling 147 fits\n"
     ]
    },
    {
     "name": "stderr",
     "output_type": "stream",
     "text": [
      "[Parallel(n_jobs=-1)]: Using backend LokyBackend with 2 concurrent workers.\n",
      "[Parallel(n_jobs=-1)]: Done 147 out of 147 | elapsed:    2.7s finished\n",
      "/usr/local/lib/python3.6/dist-packages/sklearn/model_selection/_search.py:814: DeprecationWarning: The default of the `iid` parameter will change from True to False in version 0.22 and will be removed in 0.24. This will change numeric results when test-set sizes are unequal.\n",
      "  DeprecationWarning)\n"
     ]
    },
    {
     "data": {
      "text/plain": [
       "GridSearchCV(cv=3, error_score='raise-deprecating',\n",
       "             estimator=Pipeline(memory=None,\n",
       "                                steps=[('clf',\n",
       "                                        SVC(C=1, cache_size=200,\n",
       "                                            class_weight=None, coef0=0.0,\n",
       "                                            decision_function_shape='ovr',\n",
       "                                            degree=3, gamma=0.1, kernel='rbf',\n",
       "                                            max_iter=-1, probability=False,\n",
       "                                            random_state=None, shrinking=True,\n",
       "                                            tol=0.001, verbose=False))],\n",
       "                                verbose=False),\n",
       "             iid='warn', n_jobs=-1,\n",
       "             param_grid={'clf__C': (0.1, 0.5, 1, 2, 5, 10, 20),\n",
       "                         'clf__gamma': (0.001, 0.01, 0.1, 0.25, 0.5, 0.75, 1)},\n",
       "             pre_dispatch='2*n_jobs', refit=True, return_train_score=False,\n",
       "             scoring='accuracy', verbose=1)"
      ]
     },
     "execution_count": 47,
     "metadata": {
      "tags": []
     },
     "output_type": "execute_result"
    }
   ],
   "source": [
    "svm_grid_rbf.fit(X_train, y_train) "
   ]
  },
  {
   "cell_type": "code",
   "execution_count": 0,
   "metadata": {
    "colab": {
     "base_uri": "https://localhost:8080/",
     "height": 34
    },
    "colab_type": "code",
    "executionInfo": {
     "elapsed": 6214,
     "status": "ok",
     "timestamp": 1571059548424,
     "user": {
      "displayName": "Anthony Ng",
      "photoUrl": "https://lh3.googleusercontent.com/a-/AAuE7mDCwHDw3XUA0T7h5JCQA3iBUS8Wbz1V-29O8pmP8g=s64",
      "userId": "06915612711739148186"
     },
     "user_tz": -480
    },
    "id": "-zt_bPhVcGto",
    "outputId": "f75d119a-f554-4c00-a01f-d7e1f0806cc9"
   },
   "outputs": [
    {
     "data": {
      "text/plain": [
       "0.9583333333333334"
      ]
     },
     "execution_count": 48,
     "metadata": {
      "tags": []
     },
     "output_type": "execute_result"
    }
   ],
   "source": [
    "svm_grid_rbf.best_score_"
   ]
  },
  {
   "cell_type": "code",
   "execution_count": 0,
   "metadata": {
    "colab": {},
    "colab_type": "code",
    "id": "kC6aDD7bcGtq"
   },
   "outputs": [],
   "source": [
    "best = svm_grid_rbf.best_estimator_.get_params() "
   ]
  },
  {
   "cell_type": "code",
   "execution_count": 0,
   "metadata": {
    "colab": {
     "base_uri": "https://localhost:8080/",
     "height": 51
    },
    "colab_type": "code",
    "executionInfo": {
     "elapsed": 6194,
     "status": "ok",
     "timestamp": 1571059548425,
     "user": {
      "displayName": "Anthony Ng",
      "photoUrl": "https://lh3.googleusercontent.com/a-/AAuE7mDCwHDw3XUA0T7h5JCQA3iBUS8Wbz1V-29O8pmP8g=s64",
      "userId": "06915612711739148186"
     },
     "user_tz": -480
    },
    "id": "J45z9FIHcGtt",
    "outputId": "e0d6b1e7-2655-4b13-9963-02f0fba4588a"
   },
   "outputs": [
    {
     "name": "stdout",
     "output_type": "stream",
     "text": [
      "\tclf__C: \t 0.10\n",
      "\tclf__gamma: \t 0.25\n"
     ]
    }
   ],
   "source": [
    "for k in sorted(params.keys()): \n",
    "    print('\\t{0}: \\t {1:.2f}'.format(k, best[k]))"
   ]
  },
  {
   "cell_type": "markdown",
   "metadata": {
    "colab_type": "text",
    "id": "E6FLRrgWcGtw"
   },
   "source": [
    "Conducting validation in the test dataset. "
   ]
  },
  {
   "cell_type": "code",
   "execution_count": 0,
   "metadata": {
    "colab": {},
    "colab_type": "code",
    "id": "cTZVjphNcGtx"
   },
   "outputs": [],
   "source": [
    "y_test_pred = svm_grid_rbf.predict(X_test)"
   ]
  },
  {
   "cell_type": "code",
   "execution_count": 0,
   "metadata": {
    "colab": {
     "base_uri": "https://localhost:8080/",
     "height": 68
    },
    "colab_type": "code",
    "executionInfo": {
     "elapsed": 6187,
     "status": "ok",
     "timestamp": 1571059548426,
     "user": {
      "displayName": "Anthony Ng",
      "photoUrl": "https://lh3.googleusercontent.com/a-/AAuE7mDCwHDw3XUA0T7h5JCQA3iBUS8Wbz1V-29O8pmP8g=s64",
      "userId": "06915612711739148186"
     },
     "user_tz": -480
    },
    "id": "U5zWXxfacGtz",
    "outputId": "e84f226c-bf74-4a68-d5b3-9dae40b4e8a6"
   },
   "outputs": [
    {
     "data": {
      "text/plain": [
       "array([[11,  0,  0],\n",
       "       [ 0, 13,  0],\n",
       "       [ 0,  0,  6]])"
      ]
     },
     "execution_count": 52,
     "metadata": {
      "tags": []
     },
     "output_type": "execute_result"
    }
   ],
   "source": [
    "confusion_matrix(y_test, y_test_pred)"
   ]
  },
  {
   "cell_type": "code",
   "execution_count": 0,
   "metadata": {
    "colab": {
     "base_uri": "https://localhost:8080/",
     "height": 68
    },
    "colab_type": "code",
    "executionInfo": {
     "elapsed": 6185,
     "status": "ok",
     "timestamp": 1571059548428,
     "user": {
      "displayName": "Anthony Ng",
      "photoUrl": "https://lh3.googleusercontent.com/a-/AAuE7mDCwHDw3XUA0T7h5JCQA3iBUS8Wbz1V-29O8pmP8g=s64",
      "userId": "06915612711739148186"
     },
     "user_tz": -480
    },
    "id": "9lT5MtmUcGt4",
    "outputId": "9b4c4fe3-8f11-48ec-cdb9-e5fb0259016a"
   },
   "outputs": [
    {
     "name": "stdout",
     "output_type": "stream",
     "text": [
      "Precision Score: \t 1.0000\n",
      "Recall Score: \t\t 1.0000\n",
      "F1 Score: \t\t 1.0000\n"
     ]
    }
   ],
   "source": [
    "print(\"Precision Score: \\t {0:.4f}\".format(precision_score(y_test, \n",
    "                                                           y_test_pred, \n",
    "                                                           average='weighted')))\n",
    "print(\"Recall Score: \\t\\t {0:.4f}\".format(recall_score(y_test,\n",
    "                                                       y_test_pred, \n",
    "                                                       average='weighted')))\n",
    "print(\"F1 Score: \\t\\t {0:.4f}\".format(f1_score(y_test,\n",
    "                                               y_test_pred, \n",
    "                                               average='weighted')))"
   ]
  },
  {
   "cell_type": "code",
   "execution_count": 0,
   "metadata": {
    "colab": {},
    "colab_type": "code",
    "id": "jyOF8cg2cGt5"
   },
   "outputs": [],
   "source": [
    "Xv = X.values.reshape(-1,1)\n",
    "h = 0.02\n",
    "x_min, x_max = Xv.min(), Xv.max() + 1\n",
    "y_min, y_max = y.min(), y.max() + 1\n",
    "xx, yy = np.meshgrid(np.arange(x_min, x_max, h),\n",
    "                     np.arange(y_min, y_max, h))"
   ]
  },
  {
   "cell_type": "code",
   "execution_count": 0,
   "metadata": {
    "colab": {
     "base_uri": "https://localhost:8080/",
     "height": 378
    },
    "colab_type": "code",
    "executionInfo": {
     "elapsed": 6893,
     "status": "ok",
     "timestamp": 1571059549145,
     "user": {
      "displayName": "Anthony Ng",
      "photoUrl": "https://lh3.googleusercontent.com/a-/AAuE7mDCwHDw3XUA0T7h5JCQA3iBUS8Wbz1V-29O8pmP8g=s64",
      "userId": "06915612711739148186"
     },
     "user_tz": -480
    },
    "id": "4ave3_8-cGt7",
    "outputId": "b8f1f2e9-a80c-4037-dd82-c83c55805392"
   },
   "outputs": [
    {
     "data": {
      "image/png": "[encoded data removed]",
      "text/plain": [
       "<Figure size 576x432 with 1 Axes>"
      ]
     },
     "metadata": {
      "tags": []
     },
     "output_type": "display_data"
    }
   ],
   "source": [
    "z = svm_grid_rbf.predict(np.c_[xx.ravel(), yy.ravel()])\n",
    "z = z.reshape(xx.shape)\n",
    "fig = plt.figure(figsize=(8,6))\n",
    "ax = plt.contourf(xx, yy, z, cmap = 'afmhot', alpha=0.3);\n",
    "plt.scatter(X.values[:, 0], X.values[:, 1], c=y, s=80, \n",
    "            alpha=0.9, edgecolors='g');"
   ]
  },
  {
   "cell_type": "markdown",
   "metadata": {
    "colab_type": "text",
    "id": "cD4FlNGtcGt9"
   },
   "source": [
    "***\n",
    "# 5. Support Vector Regression"
   ]
  },
  {
   "cell_type": "code",
   "execution_count": 0,
   "metadata": {
    "colab": {},
    "colab_type": "code",
    "id": "OCTT88VlcGt9"
   },
   "outputs": [],
   "source": [
    "import numpy as np\n",
    "import matplotlib.pyplot as plt\n",
    "import seaborn as sns\n",
    "sns.set_style('whitegrid')\n",
    "%matplotlib inline\n",
    "import pandas as pd\n",
    "from sklearn.svm import SVR\n",
    "from sklearn.metrics import mean_squared_error, r2_score"
   ]
  },
  {
   "cell_type": "code",
   "execution_count": 0,
   "metadata": {
    "colab": {
     "base_uri": "https://localhost:8080/",
     "height": 204
    },
    "colab_type": "code",
    "executionInfo": {
     "elapsed": 6890,
     "status": "ok",
     "timestamp": 1571059549147,
     "user": {
      "displayName": "Anthony Ng",
      "photoUrl": "https://lh3.googleusercontent.com/a-/AAuE7mDCwHDw3XUA0T7h5JCQA3iBUS8Wbz1V-29O8pmP8g=s64",
      "userId": "06915612711739148186"
     },
     "user_tz": -480
    },
    "id": "vKBuq3F7cGt_",
    "outputId": "468546d1-a7b2-4913-94ee-7a23b4e685f2"
   },
   "outputs": [
    {
     "data": {
      "text/html": [
       "<div>\n",
       "<style scoped>\n",
       "    .dataframe tbody tr th:only-of-type {\n",
       "        vertical-align: middle;\n",
       "    }\n",
       "\n",
       "    .dataframe tbody tr th {\n",
       "        vertical-align: top;\n",
       "    }\n",
       "\n",
       "    .dataframe thead th {\n",
       "        text-align: right;\n",
       "    }\n",
       "</style>\n",
       "<table border=\"1\" class=\"dataframe\">\n",
       "  <thead>\n",
       "    <tr style=\"text-align: right;\">\n",
       "      <th></th>\n",
       "      <th>CRIM</th>\n",
       "      <th>ZN</th>\n",
       "      <th>INDUS</th>\n",
       "      <th>CHAS</th>\n",
       "      <th>NOX</th>\n",
       "      <th>RM</th>\n",
       "      <th>AGE</th>\n",
       "      <th>DIS</th>\n",
       "      <th>RAD</th>\n",
       "      <th>TAX</th>\n",
       "      <th>PTRATIO</th>\n",
       "      <th>B</th>\n",
       "      <th>LSTAT</th>\n",
       "    </tr>\n",
       "  </thead>\n",
       "  <tbody>\n",
       "    <tr>\n",
       "      <th>0</th>\n",
       "      <td>0.00632</td>\n",
       "      <td>18.0</td>\n",
       "      <td>2.31</td>\n",
       "      <td>0.0</td>\n",
       "      <td>0.538</td>\n",
       "      <td>6.575</td>\n",
       "      <td>65.2</td>\n",
       "      <td>4.0900</td>\n",
       "      <td>1.0</td>\n",
       "      <td>296.0</td>\n",
       "      <td>15.3</td>\n",
       "      <td>396.90</td>\n",
       "      <td>4.98</td>\n",
       "    </tr>\n",
       "    <tr>\n",
       "      <th>1</th>\n",
       "      <td>0.02731</td>\n",
       "      <td>0.0</td>\n",
       "      <td>7.07</td>\n",
       "      <td>0.0</td>\n",
       "      <td>0.469</td>\n",
       "      <td>6.421</td>\n",
       "      <td>78.9</td>\n",
       "      <td>4.9671</td>\n",
       "      <td>2.0</td>\n",
       "      <td>242.0</td>\n",
       "      <td>17.8</td>\n",
       "      <td>396.90</td>\n",
       "      <td>9.14</td>\n",
       "    </tr>\n",
       "    <tr>\n",
       "      <th>2</th>\n",
       "      <td>0.02729</td>\n",
       "      <td>0.0</td>\n",
       "      <td>7.07</td>\n",
       "      <td>0.0</td>\n",
       "      <td>0.469</td>\n",
       "      <td>7.185</td>\n",
       "      <td>61.1</td>\n",
       "      <td>4.9671</td>\n",
       "      <td>2.0</td>\n",
       "      <td>242.0</td>\n",
       "      <td>17.8</td>\n",
       "      <td>392.83</td>\n",
       "      <td>4.03</td>\n",
       "    </tr>\n",
       "    <tr>\n",
       "      <th>3</th>\n",
       "      <td>0.03237</td>\n",
       "      <td>0.0</td>\n",
       "      <td>2.18</td>\n",
       "      <td>0.0</td>\n",
       "      <td>0.458</td>\n",
       "      <td>6.998</td>\n",
       "      <td>45.8</td>\n",
       "      <td>6.0622</td>\n",
       "      <td>3.0</td>\n",
       "      <td>222.0</td>\n",
       "      <td>18.7</td>\n",
       "      <td>394.63</td>\n",
       "      <td>2.94</td>\n",
       "    </tr>\n",
       "    <tr>\n",
       "      <th>4</th>\n",
       "      <td>0.06905</td>\n",
       "      <td>0.0</td>\n",
       "      <td>2.18</td>\n",
       "      <td>0.0</td>\n",
       "      <td>0.458</td>\n",
       "      <td>7.147</td>\n",
       "      <td>54.2</td>\n",
       "      <td>6.0622</td>\n",
       "      <td>3.0</td>\n",
       "      <td>222.0</td>\n",
       "      <td>18.7</td>\n",
       "      <td>396.90</td>\n",
       "      <td>5.33</td>\n",
       "    </tr>\n",
       "  </tbody>\n",
       "</table>\n",
       "</div>"
      ],
      "text/plain": [
       "      CRIM    ZN  INDUS  CHAS    NOX  ...  RAD    TAX  PTRATIO       B  LSTAT\n",
       "0  0.00632  18.0   2.31   0.0  0.538  ...  1.0  296.0     15.3  396.90   4.98\n",
       "1  0.02731   0.0   7.07   0.0  0.469  ...  2.0  242.0     17.8  396.90   9.14\n",
       "2  0.02729   0.0   7.07   0.0  0.469  ...  2.0  242.0     17.8  392.83   4.03\n",
       "3  0.03237   0.0   2.18   0.0  0.458  ...  3.0  222.0     18.7  394.63   2.94\n",
       "4  0.06905   0.0   2.18   0.0  0.458  ...  3.0  222.0     18.7  396.90   5.33\n",
       "\n",
       "[5 rows x 13 columns]"
      ]
     },
     "execution_count": 57,
     "metadata": {
      "tags": []
     },
     "output_type": "execute_result"
    }
   ],
   "source": [
    "from sklearn.datasets import load_boston\n",
    "boston_data = load_boston()\n",
    "df = pd.DataFrame(boston_data.data, columns=boston_data.feature_names)\n",
    "df.head()"
   ]
  },
  {
   "cell_type": "code",
   "execution_count": 0,
   "metadata": {
    "colab": {},
    "colab_type": "code",
    "id": "C-1f3sV8cGuA"
   },
   "outputs": [],
   "source": [
    "y = boston_data.target\n",
    "X = df[['LSTAT']].values"
   ]
  },
  {
   "cell_type": "code",
   "execution_count": 0,
   "metadata": {
    "colab": {
     "base_uri": "https://localhost:8080/",
     "height": 51
    },
    "colab_type": "code",
    "executionInfo": {
     "elapsed": 6883,
     "status": "ok",
     "timestamp": 1571059549148,
     "user": {
      "displayName": "Anthony Ng",
      "photoUrl": "https://lh3.googleusercontent.com/a-/AAuE7mDCwHDw3XUA0T7h5JCQA3iBUS8Wbz1V-29O8pmP8g=s64",
      "userId": "06915612711739148186"
     },
     "user_tz": -480
    },
    "id": "KEaoLJnOcGuH",
    "outputId": "96d6bb2b-38e0-4059-c4db-e47801e77b94"
   },
   "outputs": [
    {
     "data": {
      "text/plain": [
       "SVR(C=1.0, cache_size=200, coef0=0.0, degree=3, epsilon=0.1, gamma='auto',\n",
       "    kernel='rbf', max_iter=-1, shrinking=True, tol=0.001, verbose=False)"
      ]
     },
     "execution_count": 59,
     "metadata": {
      "tags": []
     },
     "output_type": "execute_result"
    }
   ],
   "source": [
    "svr = SVR(gamma='auto')\n",
    "svr.fit(X, y)"
   ]
  },
  {
   "cell_type": "code",
   "execution_count": 0,
   "metadata": {
    "colab": {},
    "colab_type": "code",
    "id": "eqM2srZdcGuI"
   },
   "outputs": [],
   "source": [
    "sort_idx = X.flatten().argsort()"
   ]
  },
  {
   "cell_type": "code",
   "execution_count": 0,
   "metadata": {
    "colab": {
     "base_uri": "https://localhost:8080/",
     "height": 500
    },
    "colab_type": "code",
    "executionInfo": {
     "elapsed": 7628,
     "status": "ok",
     "timestamp": 1571059549900,
     "user": {
      "displayName": "Anthony Ng",
      "photoUrl": "https://lh3.googleusercontent.com/a-/AAuE7mDCwHDw3XUA0T7h5JCQA3iBUS8Wbz1V-29O8pmP8g=s64",
      "userId": "06915612711739148186"
     },
     "user_tz": -480
    },
    "id": "vW7khBYtcGuJ",
    "outputId": "1a7bd2cf-ee44-4c0a-e8ed-28c89320d58f"
   },
   "outputs": [
    {
     "data": {
      "image/png": "[encoded data removed]",
      "text/plain": [
       "<Figure size 720x576 with 1 Axes>"
      ]
     },
     "metadata": {
      "tags": []
     },
     "output_type": "display_data"
    }
   ],
   "source": [
    "plt.figure(figsize=(10,8))\n",
    "plt.scatter(X[sort_idx], y[sort_idx])\n",
    "plt.plot(X[sort_idx], svr.predict(X[sort_idx]), color='k')\n",
    "\n",
    "plt.xlabel('LSTAT')\n",
    "plt.ylabel('MEDV');"
   ]
  },
  {
   "cell_type": "code",
   "execution_count": 0,
   "metadata": {
    "colab": {},
    "colab_type": "code",
    "id": "LoLWsaLtcGuK"
   },
   "outputs": [],
   "source": [
    "X_train, X_test, y_train, y_test = train_test_split(X, y, \n",
    "                                                    test_size=0.3, \n",
    "                                                    random_state=42)"
   ]
  },
  {
   "cell_type": "markdown",
   "metadata": {
    "colab_type": "text",
    "id": "WfiXHOUTcGuY"
   },
   "source": [
    "Linear Kernel"
   ]
  },
  {
   "cell_type": "code",
   "execution_count": 0,
   "metadata": {
    "colab": {
     "base_uri": "https://localhost:8080/",
     "height": 68
    },
    "colab_type": "code",
    "executionInfo": {
     "elapsed": 7623,
     "status": "ok",
     "timestamp": 1571059549902,
     "user": {
      "displayName": "Anthony Ng",
      "photoUrl": "https://lh3.googleusercontent.com/a-/AAuE7mDCwHDw3XUA0T7h5JCQA3iBUS8Wbz1V-29O8pmP8g=s64",
      "userId": "06915612711739148186"
     },
     "user_tz": -480
    },
    "id": "iyjnrQWecGuY",
    "outputId": "f1d0d1ce-8e7f-47ff-8573-368602401ad3"
   },
   "outputs": [
    {
     "data": {
      "text/plain": [
       "SVR(C=1.0, cache_size=200, coef0=0.0, degree=3, epsilon=0.1,\n",
       "    gamma='auto_deprecated', kernel='linear', max_iter=-1, shrinking=True,\n",
       "    tol=0.001, verbose=False)"
      ]
     },
     "execution_count": 63,
     "metadata": {
      "tags": []
     },
     "output_type": "execute_result"
    }
   ],
   "source": [
    "svr = SVR(kernel='linear')\n",
    "svr.fit(X_train, y_train)"
   ]
  },
  {
   "cell_type": "code",
   "execution_count": 0,
   "metadata": {
    "colab": {},
    "colab_type": "code",
    "id": "gUCzc38tcGuZ"
   },
   "outputs": [],
   "source": [
    "y_train_pred = svr.predict(X_train)"
   ]
  },
  {
   "cell_type": "code",
   "execution_count": 0,
   "metadata": {
    "colab": {},
    "colab_type": "code",
    "id": "UNwSOXaAcGuc"
   },
   "outputs": [],
   "source": [
    "y_test_pred = svr.predict(X_test)"
   ]
  },
  {
   "cell_type": "code",
   "execution_count": 0,
   "metadata": {
    "colab": {
     "base_uri": "https://localhost:8080/",
     "height": 34
    },
    "colab_type": "code",
    "executionInfo": {
     "elapsed": 7616,
     "status": "ok",
     "timestamp": 1571059549903,
     "user": {
      "displayName": "Anthony Ng",
      "photoUrl": "https://lh3.googleusercontent.com/a-/AAuE7mDCwHDw3XUA0T7h5JCQA3iBUS8Wbz1V-29O8pmP8g=s64",
      "userId": "06915612711739148186"
     },
     "user_tz": -480
    },
    "id": "ttlsbugKcGud",
    "outputId": "07f11224-f769-4cc9-863e-41a88b55c72f"
   },
   "outputs": [
    {
     "name": "stdout",
     "output_type": "stream",
     "text": [
      "MSE train: 41.8187, test: 36.8372\n"
     ]
    }
   ],
   "source": [
    "print(\"MSE train: {0:.4f}, test: {1:.4f}\".\\\n",
    "      format(mean_squared_error(y_train, y_train_pred), \n",
    "             mean_squared_error(y_test, y_test_pred)))"
   ]
  },
  {
   "cell_type": "code",
   "execution_count": 0,
   "metadata": {
    "colab": {
     "base_uri": "https://localhost:8080/",
     "height": 34
    },
    "colab_type": "code",
    "executionInfo": {
     "elapsed": 7613,
     "status": "ok",
     "timestamp": 1571059549904,
     "user": {
      "displayName": "Anthony Ng",
      "photoUrl": "https://lh3.googleusercontent.com/a-/AAuE7mDCwHDw3XUA0T7h5JCQA3iBUS8Wbz1V-29O8pmP8g=s64",
      "userId": "06915612711739148186"
     },
     "user_tz": -480
    },
    "id": "vT90teNZcGuf",
    "outputId": "bec3bab5-a2aa-4c76-bc8d-6b03f49766a1"
   },
   "outputs": [
    {
     "name": "stdout",
     "output_type": "stream",
     "text": [
      "R^2 train: 0.5242, test: 0.5056\n"
     ]
    }
   ],
   "source": [
    "print(\"R^2 train: {0:.4f}, test: {1:.4f}\".\\\n",
    "      format(r2_score(y_train, y_train_pred),\n",
    "             r2_score(y_test, y_test_pred)))"
   ]
  },
  {
   "cell_type": "markdown",
   "metadata": {
    "colab_type": "text",
    "id": "idYLTDtucGuh"
   },
   "source": [
    "Polynomial"
   ]
  },
  {
   "cell_type": "code",
   "execution_count": 0,
   "metadata": {
    "colab": {
     "base_uri": "https://localhost:8080/",
     "height": 51
    },
    "colab_type": "code",
    "executionInfo": {
     "elapsed": 84341,
     "status": "ok",
     "timestamp": 1571059626634,
     "user": {
      "displayName": "Anthony Ng",
      "photoUrl": "https://lh3.googleusercontent.com/a-/AAuE7mDCwHDw3XUA0T7h5JCQA3iBUS8Wbz1V-29O8pmP8g=s64",
      "userId": "06915612711739148186"
     },
     "user_tz": -480
    },
    "id": "DCGOSnnVcGuh",
    "outputId": "dc3703f0-2621-495d-a093-098ee44d513a"
   },
   "outputs": [
    {
     "data": {
      "text/plain": [
       "SVR(C=1000.0, cache_size=200, coef0=0.0, degree=2, epsilon=0.1, gamma='auto',\n",
       "    kernel='poly', max_iter=-1, shrinking=True, tol=0.001, verbose=False)"
      ]
     },
     "execution_count": 68,
     "metadata": {
      "tags": []
     },
     "output_type": "execute_result"
    }
   ],
   "source": [
    "svr = SVR(kernel='poly', C=1e3, degree=2, gamma='auto')\n",
    "svr.fit(X_train, y_train)"
   ]
  },
  {
   "cell_type": "code",
   "execution_count": 0,
   "metadata": {
    "colab": {},
    "colab_type": "code",
    "id": "chgrdByJcGuj"
   },
   "outputs": [],
   "source": [
    "y_train_pred = svr.predict(X_train)\n",
    "y_test_pred = svr.predict(X_test)"
   ]
  },
  {
   "cell_type": "code",
   "execution_count": 0,
   "metadata": {
    "colab": {
     "base_uri": "https://localhost:8080/",
     "height": 51
    },
    "colab_type": "code",
    "executionInfo": {
     "elapsed": 84343,
     "status": "ok",
     "timestamp": 1571059626645,
     "user": {
      "displayName": "Anthony Ng",
      "photoUrl": "https://lh3.googleusercontent.com/a-/AAuE7mDCwHDw3XUA0T7h5JCQA3iBUS8Wbz1V-29O8pmP8g=s64",
      "userId": "06915612711739148186"
     },
     "user_tz": -480
    },
    "id": "NAp12Rc_cGuk",
    "outputId": "d7ffd9d1-ac57-4047-e13b-fd52c126c378"
   },
   "outputs": [
    {
     "name": "stdout",
     "output_type": "stream",
     "text": [
      "MSE train: 110.3334, test: 114.3676\n",
      "R^2 train: -0.2553, test: -0.5349\n"
     ]
    }
   ],
   "source": [
    "print(\"MSE train: {0:.4f}, test: {1:.4f}\".\\\n",
    "      format(mean_squared_error(y_train, y_train_pred), \n",
    "             mean_squared_error(y_test, y_test_pred)))\n",
    "print(\"R^2 train: {0:.4f}, test: {1:.4f}\".\\\n",
    "      format(r2_score(y_train, y_train_pred),\n",
    "             r2_score(y_test, y_test_pred)))"
   ]
  },
  {
   "cell_type": "markdown",
   "metadata": {
    "colab_type": "text",
    "id": "tx-VaZQEcGul"
   },
   "source": [
    "rbf Kernel"
   ]
  },
  {
   "cell_type": "code",
   "execution_count": 0,
   "metadata": {
    "colab": {
     "base_uri": "https://localhost:8080/",
     "height": 51
    },
    "colab_type": "code",
    "executionInfo": {
     "elapsed": 84339,
     "status": "ok",
     "timestamp": 1571059626646,
     "user": {
      "displayName": "Anthony Ng",
      "photoUrl": "https://lh3.googleusercontent.com/a-/AAuE7mDCwHDw3XUA0T7h5JCQA3iBUS8Wbz1V-29O8pmP8g=s64",
      "userId": "06915612711739148186"
     },
     "user_tz": -480
    },
    "id": "TZPFCsrRcGum",
    "outputId": "54be241d-be23-4d24-a797-d84ebfb92f1b"
   },
   "outputs": [
    {
     "data": {
      "text/plain": [
       "SVR(C=1000.0, cache_size=200, coef0=0.0, degree=3, epsilon=0.1, gamma=0.1,\n",
       "    kernel='rbf', max_iter=-1, shrinking=True, tol=0.001, verbose=False)"
      ]
     },
     "execution_count": 71,
     "metadata": {
      "tags": []
     },
     "output_type": "execute_result"
    }
   ],
   "source": [
    "svr = SVR(kernel='rbf', C=1e3, gamma=0.1)\n",
    "svr.fit(X_train, y_train)"
   ]
  },
  {
   "cell_type": "code",
   "execution_count": 0,
   "metadata": {
    "colab": {},
    "colab_type": "code",
    "id": "ZNn_uoWjcGup"
   },
   "outputs": [],
   "source": [
    "y_train_pred = svr.predict(X_train)\n",
    "y_test_pred = svr.predict(X_test)"
   ]
  },
  {
   "cell_type": "code",
   "execution_count": 0,
   "metadata": {
    "colab": {
     "base_uri": "https://localhost:8080/",
     "height": 51
    },
    "colab_type": "code",
    "executionInfo": {
     "elapsed": 84341,
     "status": "ok",
     "timestamp": 1571059626653,
     "user": {
      "displayName": "Anthony Ng",
      "photoUrl": "https://lh3.googleusercontent.com/a-/AAuE7mDCwHDw3XUA0T7h5JCQA3iBUS8Wbz1V-29O8pmP8g=s64",
      "userId": "06915612711739148186"
     },
     "user_tz": -480
    },
    "id": "Ebv-k3S1cGus",
    "outputId": "3c7135ed-6634-4783-ea0b-1529994884b6"
   },
   "outputs": [
    {
     "name": "stdout",
     "output_type": "stream",
     "text": [
      "MSE train: 27.5635, test: 26.7051\n",
      "R^2 train: 0.6864, test: 0.6416\n"
     ]
    }
   ],
   "source": [
    "print(\"MSE train: {0:.4f}, test: {1:.4f}\".\\\n",
    "      format(mean_squared_error(y_train, y_train_pred), \n",
    "             mean_squared_error(y_test, y_test_pred)))\n",
    "print(\"R^2 train: {0:.4f}, test: {1:.4f}\".\\\n",
    "      format(r2_score(y_train, y_train_pred),\n",
    "             r2_score(y_test, y_test_pred)))"
   ]
  }
 ],
 "metadata": {
  "accelerator": "GPU",
  "colab": {
   "name": "Copy of 05-Support Vector Machine.ipynb",
   "provenance": [
    {
     "file_id": "1nzQawh9irUbkgHHp4Wlu9FoL8tK26_Ow",
     "timestamp": 1572424152216
    },
    {
     "file_id": "1J09dHjpwkpd_eGCAYjgPB9tr3ct0tRuO",
     "timestamp": 1571059440981
    }
   ]
  },
  "kernelspec": {
   "display_name": "Python 3",
   "language": "python",
   "name": "python3"
  },
  "language_info": {
   "codemirror_mode": {
    "name": "ipython",
    "version": 3
   },
   "file_extension": ".py",
   "mimetype": "text/x-python",
   "name": "python",
   "nbconvert_exporter": "python",
   "pygments_lexer": "ipython3",
   "version": "3.8.3"
  }
 },
 "nbformat": 4,
 "nbformat_minor": 1
}
